{
  "nbformat": 4,
  "nbformat_minor": 0,
  "metadata": {
    "colab": {
      "name": "Problema2: PDE con Diferencias Finitas.ipynb",
      "provenance": []
    },
    "kernelspec": {
      "name": "python3",
      "display_name": "Python 3"
    }
  },
  "cells": [
    {
      "cell_type": "markdown",
      "metadata": {
        "id": "mR8WXwILwCvt",
        "colab_type": "text"
      },
      "source": [
        "## Problema 2:  PDE con Diferencias Finitas\n",
        "\n",
        "Presentado por Diego Useche Reyes\n",
        "\n",
        "Video: https://www.youtube.com/watch?v=iMOxuSZ360o\n",
        "\n",
        "Este es un codigo tomado del profesor David Ketcheson, del repositorio https://github.com/ahmadia/py4sci/ El cual resuelve las siguientes PDE con el metodo de diferencias finitas.\n",
        "\n",
        "  $$     u_t = D_1 \\nabla^2 u + f(u,v) $$\n",
        "  $$    v_t = D_2 \\nabla^2 v + g(u,v)  $$"
      ]
    },
    {
      "cell_type": "code",
      "metadata": {
        "id": "q-8CvdNWwW6E",
        "colab_type": "code",
        "colab": {}
      },
      "source": [
        "import matplotlib\n",
        "# matplotlib.use('TkAgg')\n",
        "import numpy as np\n",
        "import matplotlib.pyplot as plt\n",
        "from scipy.sparse import spdiags,linalg,eye\n",
        "from time import sleep\n",
        "\n"
      ],
      "execution_count": 2,
      "outputs": []
    },
    {
      "cell_type": "code",
      "metadata": {
        "id": "FO24jd-qwvkL",
        "colab_type": "code",
        "colab": {
          "base_uri": "https://localhost:8080/",
          "height": 281
        },
        "outputId": "e526c8c2-51b3-44aa-cb26-487c4e5eaf6a"
      },
      "source": [
        "\n",
        "#Parameter values\n",
        "Du=0.500; Dv=1;\n",
        "delta=0.0045; tau1=0.02; tau2=0.2; alpha=0.899; beta=-0.91; gamma=-alpha;\n",
        "#delta=0.0045; tau1=0.02; tau2=0.2; alpha=1.9; beta=-0.91; gamma=-alpha;\n",
        "#delta=0.0045; tau1=2.02; tau2=0.; alpha=2.0; beta=-0.91; gamma=-alpha;\n",
        "#delta=0.0021; tau1=3.5; tau2=0; alpha=0.899; beta=-0.91; gamma=-alpha;\n",
        "#delta=0.0045; tau1=0.02; tau2=0.2; alpha=1.9; beta=-0.85; gamma=-alpha;\n",
        "#delta=0.0001; tau1=0.02; tau2=0.2; alpha=0.899; beta=-0.91; gamma=-alpha;\n",
        "#delta=0.0005; tau1=2.02; tau2=0.; alpha=2.0; beta=-0.91; gamma=-alpha; nx=150;\n",
        "\n",
        "#Define the reaction functions\n",
        "def f(u,v):\n",
        "    return alpha*u*(1-tau1*v**2) + v*(1-tau2*u);\n",
        "\n",
        "def g(u,v):\n",
        "    return beta*v*(1+alpha*tau1/beta*u*v) + u*(gamma+tau2*v);\n",
        "\n",
        "\n",
        "def five_pt_laplacian(m,a,b):\n",
        "    \"\"\"Construct a matrix that applies the 5-point laplacian discretization\"\"\"\n",
        "    e=np.ones(m**2)\n",
        "    e2=([0]+[1]*(m-1))*m\n",
        "    h=(b-a)/(m+1)\n",
        "    A=np.diag(-4*e,0)+np.diag(e2[1:],-1)+np.diag(e2[1:],1)+np.diag(e[m:],m)+np.diag(e[m:],-m)\n",
        "    A/=h**2\n",
        "    return A\n",
        "\n",
        "def five_pt_laplacian_sparse(m,a,b):\n",
        "    \"\"\"Construct a sparse matrix that applies the 5-point laplacian discretization\"\"\"\n",
        "    e=np.ones(m**2)\n",
        "    e2=([1]*(m-1)+[0])*m\n",
        "    e3=([0]+[1]*(m-1))*m\n",
        "    h=(b-a)/(m+1)\n",
        "    A=spdiags([-4*e,e2,e3,e,e],[0,-1,1,-m,m],m**2,m**2)\n",
        "    A/=h**2\n",
        "    return A\n",
        "\n",
        "# Set up the grid\n",
        "a=-1.; b=1.\n",
        "m=100; h=(b-a)/m; \n",
        "x = np.linspace(-1,1,m)\n",
        "y = np.linspace(-1,1,m)\n",
        "Y,X = np.meshgrid(y,x)\n",
        "\n",
        "# Initial data\n",
        "u=np.random.randn(m,m)/2.;\n",
        "v=np.random.randn(m,m)/2.;\n",
        "# plt.hold(False)\n",
        "plt.pcolormesh(x,y,u)\n",
        "plt.colorbar; plt.axis('image'); \n",
        "plt.draw()\n",
        "u=u.reshape(-1)\n",
        "v=v.reshape(-1)\n",
        "\n",
        "A=five_pt_laplacian_sparse(m,-1.,1.);\n",
        "II=eye(m*m,m*m)\n",
        "\n",
        "t=0.\n",
        "dt=h/delta/5.;\n",
        "plt.ion()\n",
        "\n",
        "#Now step forward in time\n",
        "for k in range(120):\n",
        "    #Simple (1st-order) operator splitting:\n",
        "    u = linalg.spsolve(II-dt*delta*Du*A,u)\n",
        "    v = linalg.spsolve(II-dt*delta*Dv*A,v)\n",
        "\n",
        "    unew=u+dt*f(u,v);\n",
        "    v   =v+dt*g(u,v);\n",
        "    u=unew;\n",
        "    t=t+dt;\n",
        "\n",
        "    #Plot every 3rd frame\n",
        "    if k/3==float(k)/3:\n",
        "        U=u.reshape((m,m))\n",
        "        plt.pcolormesh(x,y,U)\n",
        "        plt.colorbar\n",
        "        plt.axis('image')\n",
        "        plt.title(str(t))\n",
        "        plt.draw()\n",
        "\n",
        "plt.ioff()"
      ],
      "execution_count": 6,
      "outputs": [
        {
          "output_type": "display_data",
          "data": {
            "image/png": "[encoded data removed]",
            "text/plain": [
              "<Figure size 432x288 with 1 Axes>"
            ]
          },
          "metadata": {
            "tags": [],
            "needs_background": "light"
          }
        }
      ]
    }
  ]
}