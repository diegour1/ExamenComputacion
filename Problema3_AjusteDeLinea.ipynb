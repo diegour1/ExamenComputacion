{
  "nbformat": 4,
  "nbformat_minor": 0,
  "metadata": {
    "colab": {
      "name": "Problema3: AjusteDeLinea.ipynb",
      "provenance": []
    },
    "kernelspec": {
      "name": "python3",
      "display_name": "Python 3"
    }
  },
  "cells": [
    {
      "cell_type": "markdown",
      "metadata": {
        "id": "YIedVZ60mNM6",
        "colab_type": "text"
      },
      "source": [
        "## Problema 3: Metodo Kernel Ridge Regression\n",
        "\n",
        "Presentado por: Diego Useche Reyes\n",
        "\n",
        "Video: https://www.youtube.com/watch?v=Ejx2mmwDOf4\n",
        "\n",
        "El método propuesto de ajuste de linea es Kernel Ridge Regresion"
      ]
    },
    {
      "cell_type": "code",
      "metadata": {
        "id": "emmtILqBOr8r",
        "colab_type": "code",
        "colab": {}
      },
      "source": [
        "import numpy as np\n",
        "import scipy.linalg as la\n",
        "import pylab as pl"
      ],
      "execution_count": 8,
      "outputs": []
    },
    {
      "cell_type": "markdown",
      "metadata": {
        "id": "j5JFEncimsVb",
        "colab_type": "text"
      },
      "source": [
        "Creamos los puntos para realizar la regresion"
      ]
    },
    {
      "cell_type": "code",
      "metadata": {
        "id": "tf0uhj0tO00Q",
        "colab_type": "code",
        "colab": {
          "base_uri": "https://localhost:8080/",
          "height": 282
        },
        "outputId": "bc99faac-aae2-4923-e9ae-51ba0f297439"
      },
      "source": [
        "X = np.random.uniform(size=(20,1))\n",
        "Y = 2.5*X + 0.2 * np.random.normal(size=(20,1))\n",
        "pl.plot(X, Y, '.')"
      ],
      "execution_count": 9,
      "outputs": [
        {
          "output_type": "execute_result",
          "data": {
            "text/plain": [
              "[<matplotlib.lines.Line2D at 0x7f9b87a356a0>]"
            ]
          },
          "metadata": {
            "tags": []
          },
          "execution_count": 9
        },
        {
          "output_type": "display_data",
          "data": {
            "image/png": "[encoded data removed]",
            "text/plain": [
              "<Figure size 432x288 with 1 Axes>"
            ]
          },
          "metadata": {
            "tags": [],
            "needs_background": "light"
          }
        }
      ]
    },
    {
      "cell_type": "markdown",
      "metadata": {
        "id": "vKJZ2bd_Pdh7",
        "colab_type": "text"
      },
      "source": [
        "## Kernel Ridge Regression\n",
        "\n",
        "En Kernel ridge Regression es un metodo de Machine Learning donde tenemos unos puntos y queremos minimizar la función de costo \n",
        "\n",
        "$$ L = \\lambda w^2 + \\sum(y_i-g(x_i))^2  $$\n",
        "\n",
        "Los pesos que se encuentran al hacer está minimización son, \n",
        "\n",
        "$$W=(X'X+\\lambda)^{-1}X'y$$\n",
        "\n",
        "Y luego la función que se predice es, \n",
        "\n",
        "$$ g = WX$$\n",
        "\n"
      ]
    },
    {
      "cell_type": "code",
      "metadata": {
        "id": "cgmcPInePfch",
        "colab_type": "code",
        "colab": {}
      },
      "source": [
        "w = la.inv(X.T @ X) @ X.T @ Y"
      ],
      "execution_count": 10,
      "outputs": []
    },
    {
      "cell_type": "code",
      "metadata": {
        "id": "nEbw7bW0P8QI",
        "colab_type": "code",
        "colab": {
          "base_uri": "https://localhost:8080/",
          "height": 34
        },
        "outputId": "ffef15b1-0553-4242-a47a-ccc0433cfc50"
      },
      "source": [
        "w"
      ],
      "execution_count": 11,
      "outputs": [
        {
          "output_type": "execute_result",
          "data": {
            "text/plain": [
              "array([[2.39692987]])"
            ]
          },
          "metadata": {
            "tags": []
          },
          "execution_count": 11
        }
      ]
    },
    {
      "cell_type": "code",
      "metadata": {
        "id": "qkp05aE0P-4n",
        "colab_type": "code",
        "colab": {
          "base_uri": "https://localhost:8080/",
          "height": 299
        },
        "outputId": "07dd3425-a5c8-4855-be33-48623ebcaf8d"
      },
      "source": [
        "Y_pred = w *X\n",
        "pl.plot(X, Y, '.', X, Y_pred, '-')"
      ],
      "execution_count": 12,
      "outputs": [
        {
          "output_type": "execute_result",
          "data": {
            "text/plain": [
              "[<matplotlib.lines.Line2D at 0x7f9b87923ba8>,\n",
              " <matplotlib.lines.Line2D at 0x7f9b87923c88>]"
            ]
          },
          "metadata": {
            "tags": []
          },
          "execution_count": 12
        },
        {
          "output_type": "display_data",
          "data": {
            "image/png": "[encoded data removed]",
            "text/plain": [
              "<Figure size 432x288 with 1 Axes>"
            ]
          },
          "metadata": {
            "tags": [],
            "needs_background": "light"
          }
        }
      ]
    }
  ]
}