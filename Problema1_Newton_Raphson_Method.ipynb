{
  "nbformat": 4,
  "nbformat_minor": 0,
  "metadata": {
    "colab": {
      "name": "Problema1:Newton-Raphson Method.ipynb",
      "provenance": []
    },
    "kernelspec": {
      "name": "python3",
      "display_name": "Python 3"
    }
  },
  "cells": [
    {
      "cell_type": "markdown",
      "metadata": {
        "id": "bGNeA6Y9X-J6",
        "colab_type": "text"
      },
      "source": [
        "## Problema1: Metodo de Newton-Raphson\n",
        "\n",
        "Presentado por: Diego Useche Reyes\n",
        "\n",
        "Video: https://www.youtube.com/watch?v=E56b1q60oqY\n",
        "\n",
        "Basado en https://www.math.ubc.ca/~pwalls/math-python/roots-optimization/newton/\n",
        "\n",
        "La idea of Newton-Raphson\n",
        "\n",
        "es aproximar la linea tangente en $x_0$\n",
        "\n",
        "$$y = f´(x_0)(x_1-x_0)+f(x_0)$$\n",
        "\n",
        "Si se resuelve x_1, y se calcula el punto de corte con el eje x, es decir $y =0$, se obtiene, \n",
        "\n",
        "$$x_1 = x_0 - \\frac{f(x_0)}{f'(x_0)}$$\n",
        "\n",
        "Lo cual da una secuencia que aproxima la raiz de la función\n"
      ]
    },
    {
      "cell_type": "code",
      "metadata": {
        "id": "sZsXkioIXITi",
        "colab_type": "code",
        "colab": {}
      },
      "source": [
        "import numpy as np"
      ],
      "execution_count": 2,
      "outputs": []
    },
    {
      "cell_type": "markdown",
      "metadata": {
        "id": "24xnFzvXWLfD",
        "colab_type": "text"
      },
      "source": [
        "Encontrar la derivada"
      ]
    },
    {
      "cell_type": "code",
      "metadata": {
        "id": "UND_3J3lWMOP",
        "colab_type": "code",
        "colab": {}
      },
      "source": [
        "def derivative(f,a,h=0.01):\n",
        "  return (f(a + h) - f(a))/h"
      ],
      "execution_count": 3,
      "outputs": []
    },
    {
      "cell_type": "code",
      "metadata": {
        "id": "3eTA5ZZeW59J",
        "colab_type": "code",
        "colab": {
          "base_uri": "https://localhost:8080/",
          "height": 34
        },
        "outputId": "84988794-e4b4-4fc5-a680-298a74d374bd"
      },
      "source": [
        "# Example of the derivative function\n",
        "h = lambda x: (x**2)\n",
        "\n",
        "derivative(h,3)"
      ],
      "execution_count": 6,
      "outputs": [
        {
          "output_type": "execute_result",
          "data": {
            "text/plain": [
              "6.009999999999849"
            ]
          },
          "metadata": {
            "tags": []
          },
          "execution_count": 6
        }
      ]
    },
    {
      "cell_type": "markdown",
      "metadata": {
        "id": "oxq8HBzMXojs",
        "colab_type": "text"
      },
      "source": [
        "Metodo de Newton-Raphson"
      ]
    },
    {
      "cell_type": "code",
      "metadata": {
        "id": "NMV0MiqSXRYo",
        "colab_type": "code",
        "colab": {}
      },
      "source": [
        "def newton_raphson(f,x0=1,Df=derivative,epsilon = 1e-2,max_iter = 100):\n",
        "    xn = x0\n",
        "    for n in range(0,max_iter):\n",
        "        fxn = f(xn)\n",
        "        if abs(fxn) < epsilon:\n",
        "            return xn\n",
        "        Dfxn = Df(f, xn)\n",
        "        if Dfxn == 0:\n",
        "            return None\n",
        "        xn = xn - fxn/Dfxn\n",
        "    print('No se encontró la solución')\n",
        "    return None"
      ],
      "execution_count": 16,
      "outputs": []
    },
    {
      "cell_type": "markdown",
      "metadata": {
        "id": "B0x233WwZTl4",
        "colab_type": "text"
      },
      "source": [
        "Creamos la función del ejercicio con la notacion lambda"
      ]
    },
    {
      "cell_type": "code",
      "metadata": {
        "id": "xGuasVaTZSBO",
        "colab_type": "code",
        "colab": {}
      },
      "source": [
        "f = lambda x:  (x + 2)*(x - 2)*(x - 4)"
      ],
      "execution_count": 17,
      "outputs": []
    },
    {
      "cell_type": "code",
      "metadata": {
        "id": "DQ0gFdK4ZMvS",
        "colab_type": "code",
        "colab": {
          "base_uri": "https://localhost:8080/",
          "height": 34
        },
        "outputId": "5a486273-09ae-4d4d-e00b-638912ef291e"
      },
      "source": [
        "newton_raphson(f)"
      ],
      "execution_count": 18,
      "outputs": [
        {
          "output_type": "execute_result",
          "data": {
            "text/plain": [
              "1.9989012086704583"
            ]
          },
          "metadata": {
            "tags": []
          },
          "execution_count": 18
        }
      ]
    },
    {
      "cell_type": "markdown",
      "metadata": {
        "id": "fubmi0-Wa73-",
        "colab_type": "text"
      },
      "source": [
        "Create a function which searchs for multiple roots"
      ]
    },
    {
      "cell_type": "code",
      "metadata": {
        "id": "KCKokPIrZr94",
        "colab_type": "code",
        "colab": {}
      },
      "source": [
        "def newton_raphson_mroots(f,Df=derivative,epsilon = 1e-2,max_iter = 100, number_roots = 3):\n",
        "  points = np.linspace(-50, 50, 400)\n",
        "  roots = np.zeros(3)\n",
        "  i = 0\n",
        "  while i < number_roots:\n",
        "    for point in points:\n",
        "      root = newton_raphson(f,point,derivative,epsilon,max_iter)\n",
        "      if np.min(np.absolute(roots-root)) > epsilon:\n",
        "        roots[i] = root\n",
        "        i = i + 1\n",
        "  return roots"
      ],
      "execution_count": 60,
      "outputs": []
    },
    {
      "cell_type": "code",
      "metadata": {
        "id": "0x21Q5h6btpu",
        "colab_type": "code",
        "colab": {
          "base_uri": "https://localhost:8080/",
          "height": 34
        },
        "outputId": "ea02e753-9b01-4c6e-dd56-6e32873330bb"
      },
      "source": [
        "newton_raphson_mroots(f)"
      ],
      "execution_count": 61,
      "outputs": [
        {
          "output_type": "execute_result",
          "data": {
            "text/plain": [
              "array([-1.99998969,  4.00009001,  2.00000582])"
            ]
          },
          "metadata": {
            "tags": []
          },
          "execution_count": 61
        }
      ]
    },
    {
      "cell_type": "code",
      "metadata": {
        "id": "m_aoW7ASfILa",
        "colab_type": "code",
        "colab": {}
      },
      "source": [
        ""
      ],
      "execution_count": null,
      "outputs": []
    }
  ]
}